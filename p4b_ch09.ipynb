{
 "cells": [
  {
   "cell_type": "markdown",
   "metadata": {},
   "source": [
    "## Python for Biologists Chapter 9 Exercises"
   ]
  },
  {
   "cell_type": "markdown",
   "metadata": {},
   "source": [
    "#### In Chapter Exercises"
   ]
  },
  {
   "cell_type": "code",
   "execution_count": null,
   "metadata": {},
   "outputs": [],
   "source": [
    "#Manipulating files with the os module\n",
    "    #Renaming: If file is not in the working directory, you must provide the entire path\n",
    "import os\n",
    "os.rename('old.txt', 'new.txt')\n",
    "\n",
    "    #Removing files\n",
    "    #Remove a single file with .remove\n",
    "os.remove('/home/file/unwanted_file.txt')\n",
    "\n",
    "    #Remove an empty folder\n",
    "os.rmdir('/home/folder/empty')\n",
    "\n",
    "    #To recursively remove a folder and all files\n",
    "shutil.rmtree('home/folder/full') \n",
    "\n",
    "    #Listing folder contents\n",
    "os.listdir('home/folder')\n",
    "\n",
    "    #Or list all folders and files in a directory\n",
    "for file_name in os.listdir(\"/home/directory\"):\n",
    "    print(\"one file name is \" + file_name)\n",
    "\n",
    "#Running external programs with subprocess module\n",
    "    #Running a program\n",
    "suprocess.call('/usr/bin/program')\n",
    "\n",
    "    #Use 'shell = TRUE' to run program options in subprocess\n",
    "subprocess.call('/usr/bin/program' option, shell =  TRUE)\n",
    "\n",
    "    #Saving program output with subprocess.check_output\n",
    "program_output = subprocess.check_output('/usr/bin/program' option, shell =  TRUE)\n",
    "    #You will likely need to rstrip newlines before processing thr output\n",
    "\n",
    "#Making programs more flexible by avoiding hardcode\n",
    "    #Interactive user input with 'input'\n",
    "accession = input('Enter accession name')\n",
    "    #This will not return a value until the prompted user writes input\n",
    "\n",
    "    #Use sys module to run command line arguments for your program\n",
    "import sys\n",
    "print(sys.argv)\n",
    "python myprogram.py one two three\n",
    "    #Gives all the arguments for this command line\n",
    "    #['myprogram.py', 'one', 'two', 'three'] \n",
    "    "
   ]
  },
  {
   "cell_type": "markdown",
   "metadata": {},
   "source": [
    "#### Binning DNA Sequences"
   ]
  },
  {
   "cell_type": "code",
   "execution_count": 11,
   "metadata": {},
   "outputs": [
    {
     "name": "stdout",
     "output_type": "stream",
     "text": [
      "575\n"
     ]
    },
    {
     "ename": "FileNotFoundError",
     "evalue": "[Errno 2] No such file or directory: '500_599/2.dna'",
     "output_type": "error",
     "traceback": [
      "\u001b[0;31m---------------------------------------------------------------------------\u001b[0m",
      "\u001b[0;31mFileNotFoundError\u001b[0m                         Traceback (most recent call last)",
      "\u001b[0;32m<ipython-input-11-bc44abe49903>\u001b[0m in \u001b[0;36m<module>\u001b[0;34m\u001b[0m\n\u001b[1;32m     22\u001b[0m                     \u001b[0mfolder_name\u001b[0m \u001b[0;34m=\u001b[0m \u001b[0mstr\u001b[0m\u001b[0;34m(\u001b[0m\u001b[0mseq\u001b[0m\u001b[0;34m)\u001b[0m \u001b[0;34m+\u001b[0m \u001b[0;34m\"_\"\u001b[0m \u001b[0;34m+\u001b[0m \u001b[0mstr\u001b[0m\u001b[0;34m(\u001b[0m\u001b[0mseqmax\u001b[0m\u001b[0;34m)\u001b[0m\u001b[0;34m\u001b[0m\u001b[0;34m\u001b[0m\u001b[0m\n\u001b[1;32m     23\u001b[0m                     \u001b[0moutput_path\u001b[0m \u001b[0;34m=\u001b[0m \u001b[0mfolder_name\u001b[0m \u001b[0;34m+\u001b[0m \u001b[0;34m'/'\u001b[0m \u001b[0;34m+\u001b[0m \u001b[0mstr\u001b[0m\u001b[0;34m(\u001b[0m\u001b[0mseq_number\u001b[0m\u001b[0;34m)\u001b[0m \u001b[0;34m+\u001b[0m \u001b[0;34m'.dna'\u001b[0m\u001b[0;34m\u001b[0m\u001b[0;34m\u001b[0m\u001b[0m\n\u001b[0;32m---> 24\u001b[0;31m                     \u001b[0moutput\u001b[0m \u001b[0;34m=\u001b[0m \u001b[0mopen\u001b[0m\u001b[0;34m(\u001b[0m\u001b[0moutput_path\u001b[0m\u001b[0;34m,\u001b[0m \u001b[0;34m\"w\"\u001b[0m\u001b[0;34m)\u001b[0m\u001b[0;34m\u001b[0m\u001b[0;34m\u001b[0m\u001b[0m\n\u001b[0m\u001b[1;32m     25\u001b[0m                     \u001b[0moutput\u001b[0m\u001b[0;34m.\u001b[0m\u001b[0mwrite\u001b[0m\u001b[0;34m(\u001b[0m\u001b[0mdna\u001b[0m\u001b[0;34m)\u001b[0m\u001b[0;34m\u001b[0m\u001b[0;34m\u001b[0m\u001b[0m\n\u001b[1;32m     26\u001b[0m                     \u001b[0moutput\u001b[0m\u001b[0;34m.\u001b[0m\u001b[0mclose\u001b[0m\u001b[0;34m(\u001b[0m\u001b[0;34m)\u001b[0m\u001b[0;34m\u001b[0m\u001b[0;34m\u001b[0m\u001b[0m\n",
      "\u001b[0;31mFileNotFoundError\u001b[0m: [Errno 2] No such file or directory: '500_599/2.dna'"
     ]
    }
   ],
   "source": [
    "#Access os module\n",
    "import os\n",
    "\n",
    "#Create starting point and increments for seq labels\n",
    "seq_number = 1\n",
    "seq_number = seq_number+1\n",
    "   \n",
    "#Access files only ending with .dna\n",
    "for file in os.listdir('.'):\n",
    "    if file.endswith('.dna'):\n",
    "        dna_file = open(file)\n",
    "    #Read each sequence in each file, minus newline characters\n",
    "        for line in dna_file:\n",
    "            seq = line.upper().rstrip()\n",
    "            length = len(seq)\n",
    "            print(len(seq))\n",
    "    #Bin the seq lengths        \n",
    "            for seq in range(100,1000,100):\n",
    "                seqmax = seq + 99 \n",
    "                if length >= seq and length < seqmax:\n",
    "    #Write seq to folder\n",
    "                    folder_name = str(seq) + \"_\" + str(seqmax)\n",
    "                    output_path = folder_name + '/' + str(seq_number) + '.dna'\n",
    "                    output = open(output_path, \"w\")\n",
    "                    output.write(dna)\n",
    "                    output.close()\n"
   ]
  },
  {
   "cell_type": "markdown",
   "metadata": {},
   "source": [
    "#### Kmer Counting"
   ]
  },
  {
   "cell_type": "code",
   "execution_count": null,
   "metadata": {},
   "outputs": [],
   "source": [
    "#Write a program that will calculate the number of all kmers of a given length across\n",
    "#all DNA sequences in the input files and display just the ones that occur more than\n",
    "#a given number of times. You program should take two command line arguments –\n",
    "#the kmer length, and the cutoff number.\n",
    "#Create input for user to input file\n",
    "file_name = input('file')\n",
    "\n",
    "#Create a program for calculating kmer size with inputs\n",
    "#for kmer size and count\n",
    "def kmer(kmer_size,count):\n",
    "#First read and rstrip the input file    \n",
    "    file = open(file_name)\n",
    "    for line in file:\n",
    "        dna = line.rstrip(\"\\n\")\n",
    "#Define fuction within program for cutting string into kmers    \n",
    "    def polymer(dna, kmer_size):\n",
    "#Create list for kmers\n",
    "        kmers = []\n",
    "#For loop to cut dna into kmers within selected range\n",
    "        for start in range(0,len(dna)-(kmer_size-1),1):\n",
    "            kmer = dna[start:start+kmer_size]\n",
    "            kmers.append(kmer)\n",
    "            return kmers\n",
    "#For loop to count selected kmers in dna cuts\n",
    "        for part in polymer(dna, kmer_size):\n",
    "            current_count = kmer_counts.get(kmer, 0)\n",
    "            new_count = current_count + 1\n",
    "            kmer_counts[kmer] = new_count\n",
    "#For loop for each part in polymer\n",
    "            for kmer in kmer_counts.items():\n",
    "#Conditional for meeting count requirement    \n",
    "            if kmer > count:\n",
    "                    print(kmer + \" : \" + str(count)) \n",
    "            \n",
    "         "
   ]
  }
 ],
 "metadata": {
  "kernelspec": {
   "display_name": "Python 3",
   "language": "python",
   "name": "python3"
  },
  "language_info": {
   "codemirror_mode": {
    "name": "ipython",
    "version": 3
   },
   "file_extension": ".py",
   "mimetype": "text/x-python",
   "name": "python",
   "nbconvert_exporter": "python",
   "pygments_lexer": "ipython3",
   "version": "3.6.7"
  }
 },
 "nbformat": 4,
 "nbformat_minor": 2
}
