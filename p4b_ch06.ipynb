{
 "cells": [
  {
   "cell_type": "markdown",
   "metadata": {},
   "source": [
    "## Python for Biologists Chapter 6 Exercises"
   ]
  },
  {
   "cell_type": "markdown",
   "metadata": {},
   "source": [
    "#### In Chapter Exercises"
   ]
  },
  {
   "cell_type": "code",
   "execution_count": null,
   "metadata": {},
   "outputs": [],
   "source": [
    "#Conditions, True and False\n",
    "    #These allow the testing of statements within your code\n",
    "print(3 == 5)\n",
    "print(3 > 5)\n",
    "print(3 <=5)\n",
    "print(len(\"ATGC\") > 5)\n",
    "print(\"GAATTC\".count(\"T\") > 1)\n",
    "print(\"ATGCTT\".startswith(\"ATG\"))\n",
    "print(\"ATGCTT\".endswith(\"TTT\"))\n",
    "print(\"ATGCTT\".isupper())\n",
    "print(\"ATGCTT\".islower())\n",
    "print(\"V\" in [\"V\", \"W\", \"L\"])\n",
    "\n",
    "    #If statements\n",
    "    #This is the simplest conditional statement\n",
    "expression_level = 125\n",
    "if expression_level > 100:\n",
    "    print(\"gene is highly expressed\")\n",
    "    #and it requires indentation!\n",
    "    \n",
    "    #These can range from simple to complex\n",
    "accs = ['ab56', 'bh84', 'hv76', 'ay93', 'ap97', 'bd72']\n",
    "for accession in accs:\n",
    "    if accession.startswith('a'):\n",
    "        print(accession)\n",
    "        \n",
    "    #Else statements are used in conjuction with if\n",
    "expression_level = 125\n",
    "    if expression_level > 100:\n",
    "        print(\"gene is highly expressed\")\n",
    "    else:\n",
    "        print(\"gene is lowly expressed\")\n",
    "        \n",
    "    #Elif statement allow for multipe, complex if staments without \n",
    "    #excessive indentation or multiple if/else statments\n",
    "file1 = open(\"one.txt\", \"w\")\n",
    "file2 = open(\"two.txt\", \"w\")\n",
    "file3 = open(\"three.txt\", \"w\")\n",
    "accs = ['ab56', 'bh84', 'hv76', 'ay93', 'ap97', 'bd72']\n",
    "for accession in accs:\n",
    "    if accession.startswith('a'):\n",
    "        file1.write(accession + \"\\n\")\n",
    "    elif accession.startswith('b'):\n",
    "        file2.write(accession + \"\\n\")\n",
    "    else:\n",
    "        file3.write(accession + \"\\n\")\n",
    "        \n",
    "    #While loops are loops that run until some condition is met\n",
    "count = 0\n",
    "while count<10:\n",
    "    print(count)\n",
    "    count = count + 1\n",
    "    \n",
    "    #Use and/or and is/not to build complex conditions\n",
    "accs = ['ab56', 'bh84', 'hv76', 'ay93', 'ap97', 'bd72']\n",
    "for acc in accs:\n",
    "    if (acc.startswith('a') or acc.startswith('b')) and acc.endswith('4'):\n",
    "        print(acc)\n",
    "        \n",
    "    #You can write functions that return values that can be used in a condition\n",
    "def is_at_rich(dna):\n",
    "    length = len(dna)\n",
    "    a_count = dna.upper().count('A')\n",
    "    t_count = dna.upper().count('T')\n",
    "    at_content = (a_count + t_count) / length\n",
    "    if at_content > 0.65:\n",
    "        return True\n",
    "    else:\n",
    "        return False"
   ]
  },
  {
   "cell_type": "markdown",
   "metadata": {},
   "source": [
    "#### Several Species"
   ]
  },
  {
   "cell_type": "code",
   "execution_count": 47,
   "metadata": {},
   "outputs": [],
   "source": [
    "data = open(\"data.csv\")\n",
    "for lines in data:\n",
    "    column = lines.rstrip('/n').split(',')\n",
    "    species = column[0]\n",
    "    seq = column[1]\n",
    "    gene = column[2]\n",
    "    expr = column[3]\n",
    "    if species == \"Drosophila melanogaster\" or species == \"Drosophila simulans\":\n",
    "        print(gene)"
   ]
  },
  {
   "cell_type": "markdown",
   "metadata": {},
   "source": [
    "#### Length Range"
   ]
  },
  {
   "cell_type": "code",
   "execution_count": 53,
   "metadata": {},
   "outputs": [],
   "source": [
    "data = open(\"data.csv\")\n",
    "for lines in data:\n",
    "    column = lines.rstrip('/n').split(',')\n",
    "    species = column[0]\n",
    "    seq = column[1]\n",
    "    gene = column[2]\n",
    "    expr = column[3]\n",
    "    length = len(seq)\n",
    "    if length >= 90 and length <=110:\n",
    "        print(gene)"
   ]
  },
  {
   "cell_type": "markdown",
   "metadata": {},
   "source": [
    "#### AT Content"
   ]
  },
  {
   "cell_type": "code",
   "execution_count": 55,
   "metadata": {},
   "outputs": [],
   "source": [
    "data = open(\"data.csv\")\n",
    "def at_content(sequence):\n",
    "    dna = sequence.upper()\n",
    "    a_count = dna.count('A')\n",
    "    t_count = dna.count('T')\n",
    "    at_count = a_count + t_count\n",
    "    at_content = (at_count)/len(dna)\n",
    "    return(at_content)\n",
    "for lines in data:\n",
    "    column = lines.rstrip('/n').split(',')\n",
    "    species = column[0]\n",
    "    seq = column[1]\n",
    "    gene = column[2]\n",
    "    expr = column[3]\n",
    "    if at_content(seq) < 0.5 and expr > 200:\n",
    "        print(gene)"
   ]
  },
  {
   "cell_type": "markdown",
   "metadata": {},
   "source": [
    "#### Complex Condition"
   ]
  },
  {
   "cell_type": "code",
   "execution_count": 56,
   "metadata": {},
   "outputs": [],
   "source": [
    "data = open(\"data.csv\")\n",
    "for lines in data:\n",
    "    column = lines.rstrip('/n').split(',')\n",
    "    species = column[0]\n",
    "    seq = column[1]\n",
    "    gene = column[2]\n",
    "    expr = column[3]\n",
    "    if (gene.startswith('k') or gene.startswith('h')) and species != 'Drosophila melanogaster': \n",
    "        print(gene)"
   ]
  },
  {
   "cell_type": "markdown",
   "metadata": {},
   "source": [
    "#### High Low Medium"
   ]
  },
  {
   "cell_type": "code",
   "execution_count": 62,
   "metadata": {},
   "outputs": [],
   "source": [
    "data = open(\"data.csv\")\n",
    "def at_content(sequence):\n",
    "    dna = sequence.upper()\n",
    "    a_count = dna.count('A')\n",
    "    t_count = dna.count('T')\n",
    "    at_count = a_count + t_count\n",
    "    at_content = (at_count)/len(dna)\n",
    "    return(at_content)\n",
    "for lines in data:\n",
    "    column = lines.rstrip('/n').split(',')\n",
    "    species = column[0]\n",
    "    seq = column[1]\n",
    "    gene = column[2]\n",
    "    expr = column[3]\n",
    "    if at_content(seq) > 0.65:\n",
    "        print('The gene:',gene,'has a high AT content')\n",
    "    elif at_content(seq) < 0.45:\n",
    "        print('The gene:',gene,'has a low AT content')\n",
    "    else:\n",
    "        print('The gene:',gene,'has a medium AT content')\n",
    "              "
   ]
  }
 ],
 "metadata": {
  "kernelspec": {
   "display_name": "Python 3",
   "language": "python",
   "name": "python3"
  },
  "language_info": {
   "codemirror_mode": {
    "name": "ipython",
    "version": 3
   },
   "file_extension": ".py",
   "mimetype": "text/x-python",
   "name": "python",
   "nbconvert_exporter": "python",
   "pygments_lexer": "ipython3",
   "version": "3.6.7"
  }
 },
 "nbformat": 4,
 "nbformat_minor": 2
}
