{
 "cells": [
  {
   "cell_type": "markdown",
   "metadata": {},
   "source": [
    "## Python for Biologists Chapter 4 Exercises"
   ]
  },
  {
   "cell_type": "markdown",
   "metadata": {},
   "source": [
    "#### In Chapter Exercises"
   ]
  },
  {
   "cell_type": "code",
   "execution_count": 2,
   "metadata": {},
   "outputs": [
    {
     "name": "stdout",
     "output_type": "stream",
     "text": [
      "Homo sapiens\n",
      "3 apes\n",
      "2 monkeys\n",
      "5primates\n",
      "['Homo sapiens', 'Pan troglodytes', 'Gorilla gorilla', 'Papio ursinus', 'Macaca mulatta']\n"
     ]
    }
   ],
   "source": [
    "#Lists\n",
    "    #To make our programs able to process multiple pieces of data, we create lists\n",
    "    #by using brackets and commas\n",
    "apes = ['Homo sapiens', 'Pan troglodytes', 'Gorilla gorilla']\n",
    "conserved_sites = [24, 56, 132]\n",
    "\n",
    "    #You can retrieve elments(parts of lists) using an index\n",
    "print(apes[0])\n",
    "first_site = conserved_sites[2]\n",
    "\n",
    "    #Or you can use the index method\n",
    "chimp_index = apes.index('Pan troglodytes')\n",
    "#chimp_index is now 1\n",
    "\n",
    "    #You can also go backward from the end of a list\n",
    "last_ape = apes[-1]\n",
    "\n",
    "    #You can also access a range from a list\n",
    "ranks = ['kingdom','phylum', 'class', 'order', 'family']\n",
    "lower_ranks = ranks[2:5]\n",
    "#lower ranks are class, order and family\n",
    "\n",
    "    #To add another element onto the end of an existing list, we can use the append\n",
    "    #method:\n",
    "apes = ['Homo sapiens', 'Pan troglodytes', 'Gorilla gorilla']\n",
    "apes.append('Pan paniscus')\n",
    "#this changes the ape varaible to have 4 elements instead of 3\n",
    "\n",
    "    #You can also concatenate lists\n",
    "apes = ['Homo sapiens', 'Pan troglodytes', 'Gorilla gorilla']\n",
    "monkeys = ['Papio ursinus', 'Macaca mulatta']\n",
    "primates = apes + monkeys\n",
    "print(str(len(apes)) + ' apes')\n",
    "print(str(len(monkeys)) + ' monkeys')\n",
    "print(str(len(primates)) + ' primates')\n",
    "\n",
    "    #Or extend the original list\n",
    "apes = ['Homo sapiens', 'Pan troglodytes', 'Gorilla gorilla']\n",
    "monkeys = ['Papio ursinus', 'Macaca mulatta']\n",
    "apes.extend(monkeys)\n",
    "print(apes)\n",
    "\n",
    "    #Both reverse and sort work by changing the order of the elements in\n",
    "    #the list and require turning things into strings(str)\n",
    "ranks = ['kingdom','phylum', 'class', 'order', 'family']\n",
    "print('at the start : ' + str(ranks))\n",
    "ranks.reverse()\n",
    "print('after reversing : ' + str(ranks))\n",
    "ranks.sort()\n",
    "print('after sorting : ' + str(ranks))\n",
    "\n",
    "#Writing a loop\n",
    "    #Loops allow you to repeat a process across all elements of a list or file\n",
    "for ape in apes:\n",
    "    print(ape + ' is an ape')\n",
    "    \n",
    "    #Loops can involve multiple arguments/steps\n",
    "for ape in apes:\n",
    "    name_length = len(ape)\n",
    "    first_letter = ape[0]\n",
    "    print(ape + ' is an ape. Its name starts with ' + first_letter)\n",
    "    print('Its name has ' + str(name_length) + ' letters')\n",
    "    \n",
    "    #Indentation is VERY important for loops to work\n",
    "\n",
    "    #You can use a string as a list\n",
    "name = 'martin'\n",
    "for character in name:\n",
    "print('one character is ' + character)\n",
    "\n",
    "    #You can split a string to make a list\n",
    "names = 'melanogaster,simulans,yakuba,ananassae'\n",
    "species = names.split(',')\n",
    "print(str(species))\n",
    "\n",
    "    #You can iterate in loops over lines in files\n",
    "file = open(\"some_input.txt\")\n",
    "for line in file:\n",
    "    # do something with the line\n",
    "    \n",
    "    #Looping within ranges\n",
    "protein = 'vlspadktnv'\n",
    "stop_positions = [3,4,5,6,7,8,9,10]\n",
    "    for stop in stop_positions:\n",
    "        substring = protein[0:stop]\n",
    "        print(substring)\n",
    "    \n",
    "    #Other range options include printing within a range and\n",
    "    #printing within a range using identified increments\n",
    "    for number in range(3, 8):\n",
    "        print(number)\n",
    "    for number in range(2, 14, 4):\n",
    "        print(number)"
   ]
  },
  {
   "cell_type": "markdown",
   "metadata": {},
   "source": [
    "#### Processing DNA in a File"
   ]
  },
  {
   "cell_type": "code",
   "execution_count": 49,
   "metadata": {},
   "outputs": [
    {
     "name": "stdout",
     "output_type": "stream",
     "text": [
      "TCGATCGATCGATCGATCGATCGATCGATCGATCGATCGATC\n",
      "\n",
      "43\n",
      "ACTGATCGATCGATCGATCGATCGATGCTATCGTCGT\n",
      "\n",
      "38\n",
      "ATCGATCACGATCTATCGTACGTATGCATATCGATATCGATCGTAGTC\n",
      "\n",
      "49\n",
      "ACTATCGATGATCTAGCTACGATCGTAGCTGTA\n",
      "\n",
      "34\n",
      "ACTAGCTAGTCTCGATGCATGATCAGCTTAGCTGATGATGCTATGCA\n",
      "\n",
      "48\n"
     ]
    }
   ],
   "source": [
    "file = open('input.txt')\n",
    "trim_seq = open('trimmed_seq.txt', 'w')\n",
    "for seq in file:\n",
    "    end = len(seq)\n",
    "    new = seq[14:end]\n",
    "    trim_seq.write(str(print(new)) + str(print(len(new))))\n",
    "trim_seq.close()"
   ]
  },
  {
   "cell_type": "markdown",
   "metadata": {},
   "source": [
    "#### Multiple Exons from Genomic DNA"
   ]
  },
  {
   "cell_type": "code",
   "execution_count": 62,
   "metadata": {},
   "outputs": [],
   "source": [
    "exons = open('exons.txt')\n",
    "genome = open('genomic_dna.txt')\n",
    "coding = open('coding.txt', 'w')\n",
    "for seq in exons:\n",
    "    position = seq.split = (',')\n",
    "    print(position)\n",
    "    start = int(position[0])\n",
    "    stop = int(position[1])\n",
    "    dna = genome[start:stop]\n",
    "    coding.write(dna)\n",
    "coding.close()\n"
   ]
  }
 ],
 "metadata": {
  "kernelspec": {
   "display_name": "Python 3",
   "language": "python",
   "name": "python3"
  },
  "language_info": {
   "codemirror_mode": {
    "name": "ipython",
    "version": 3
   },
   "file_extension": ".py",
   "mimetype": "text/x-python",
   "name": "python",
   "nbconvert_exporter": "python",
   "pygments_lexer": "ipython3",
   "version": "3.6.7"
  }
 },
 "nbformat": 4,
 "nbformat_minor": 2
}
