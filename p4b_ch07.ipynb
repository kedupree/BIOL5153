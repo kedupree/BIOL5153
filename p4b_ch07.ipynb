{
 "cells": [
  {
   "cell_type": "markdown",
   "metadata": {},
   "source": [
    "## Python for Biologists Chapter 7 Exercises"
   ]
  },
  {
   "cell_type": "markdown",
   "metadata": {},
   "source": [
    "#### In Chapter Exercises"
   ]
  },
  {
   "cell_type": "code",
   "execution_count": null,
   "metadata": {},
   "outputs": [],
   "source": [
    "#Modules in Python\n",
    "    #You can import modules using 'import'\n",
    "import re\n",
    "\n",
    "#Regular Expressions\n",
    "    #Using functions within a module require the module prefix\n",
    "re.search(pattern, string)\n",
    "\n",
    "    #Raw strings: to avoid confunsion, if we put the letter r immediately\n",
    "    #before the opening quotation mark, then any special characters inside the string\n",
    "    #are ignored\n",
    "print(r\"\\t\\n\")\n",
    "\n",
    "    #re.search is a true/false function that determines whether or not a pattern \n",
    "    #appears somewhere in a string.\n",
    "dna = \"ATCGCGAATTCAC\"\n",
    "if re.search(r\"GAATTC\", dna):\n",
    "    print(\"restriction site found!\")\n",
    "    \n",
    "    #Using regular expressions allow for more complex search terms\n",
    "dna = \"ATCGCGAATTCAC\"\n",
    "if re.search(r\"GG(A|T)CC\", dna):\n",
    "    print(\"restriction site found!\")\n",
    "        \n",
    "    #You can search for character groups using parentheses\n",
    "dna = \"ATCGCGAATTCAC\"\n",
    "if re.search(r\"GC[ATGC]GC\", dna):\n",
    "    print(\"restriction site found!\")\n",
    "    #You can also use a '.' to incude ANY character, or '^' to exclude characters\n",
    "    \n",
    "    #Quantifiers allow for searching for a minimum number of appearances\n",
    "# ? after a character means it appears zero or one times\n",
    "# + means a character must be present but can appear any number of times\n",
    "# * means a character is optional, so can be present zero or more times\n",
    "# {} give a specific number of repeats to look for\n",
    "\n",
    "    #Positions\n",
    "# ^ means the beginning of a string\n",
    "# $ means the end of a string\n",
    "\n",
    "    #YOU CAN COMBINE ANY/ALL THESE EXPRESSIONS TO SEARCH FOR VERY SPECIFIC THINGS\n",
    "\n",
    "#Matching a string search\n",
    "    #re.match will only identify a pattern if it matches the entire string\n",
    "    #You can store matches in a variable\n",
    "dna = \"ATGACGTACGTACGACTG\"\n",
    "m = re.search(r\"GA[ATGC]{3}AC\", dna)\n",
    "print(m.group())\n",
    "\n",
    "    #Groups allow searching for bits of string\n",
    "na = \"ATGACGTACGTACGACTG\"\n",
    "m = re.search(r\"GA([ATGC]{3})AC([ATGC]{2})AC\", dna)\n",
    "print(\"entire match: \" + m.group())\n",
    "print(\"first bit: \" + m.group(1))\n",
    "print(\"second bit: \" + m.group(2))\n",
    "    \n",
    "    #You can find the position of a match in the string searched\n",
    "dna = \"ATGACGTACGTACGACTG\"\n",
    "m = re.search(r\"GA([ATGC]{3})AC([ATGC]{2})AC\", dna)\n",
    "print(\"start: \" + str(m.start()))\n",
    "print(\"end: \" + str(m.end()))\n",
    "\n",
    "    #The module also has a split function\n",
    "dna = \"ACTNGCATRGCTACGTYACGATSCGAWTCG\"\n",
    "runs = re.split(r\"[^ATGC]\", dna)\n",
    "print(runs)\n",
    "\n",
    "    #re.findall returns a list of all matches of a pattern in a string\n",
    "dna = \"ACTGCATTATATCGTACGAAATTATACGCGCG\"\n",
    "runs = re.findall(r\"[AT]{4,100}\", dna)\n",
    "print(runs)\n",
    "\n",
    "    #If we want to do anything more complicated than simply extracting the text \n",
    "    #of the matches, we need to use the re.finditer method\n",
    "dna = \"ACTGCATTATATCGTACGAAATTATACGCGCG\"\n",
    "runs = re.finditer(r\"[AT]{3,100}\", dna)\n",
    "for match in runs:\n",
    "    run_start = match.start()\n",
    "    run_end = match.end()\n",
    "    print(\"AT rich region from \" + str(run_start) + \" to \" + str(run_end))\n",
    "    "
   ]
  },
  {
   "cell_type": "markdown",
   "metadata": {},
   "source": [
    "#### Accession Names"
   ]
  },
  {
   "cell_type": "code",
   "execution_count": 34,
   "metadata": {},
   "outputs": [
    {
     "name": "stdout",
     "output_type": "stream",
     "text": [
      "xkn59438\n",
      "hedle3455\n",
      "xjhd53e\n",
      "45da\n"
     ]
    }
   ],
   "source": [
    "acc_names = ['xkn59438', 'yhdck2', 'eihd39d9', 'chdsye847', 'hedle3455', 'xjhd53e', '45da', 'de37dp']\n",
    "import re\n",
    "for name in acc_names:\n",
    "    if re.search('5', name):\n",
    "        print(name)"
   ]
  },
  {
   "cell_type": "code",
   "execution_count": 35,
   "metadata": {},
   "outputs": [
    {
     "name": "stdout",
     "output_type": "stream",
     "text": [
      "yhdck2\n",
      "eihd39d9\n",
      "chdsye847\n",
      "hedle3455\n",
      "xjhd53e\n",
      "45da\n",
      "de37dp\n"
     ]
    }
   ],
   "source": [
    "acc_names = ['xkn59438', 'yhdck2', 'eihd39d9', 'chdsye847', 'hedle3455', 'xjhd53e', '45da', 'de37dp']\n",
    "import re\n",
    "for name in acc_names:\n",
    "    if re.search('[d|e]', name):\n",
    "        print(name)"
   ]
  },
  {
   "cell_type": "code",
   "execution_count": 37,
   "metadata": {},
   "outputs": [
    {
     "name": "stdout",
     "output_type": "stream",
     "text": [
      "de37dp\n"
     ]
    }
   ],
   "source": [
    "acc_names = ['xkn59438', 'yhdck2', 'eihd39d9', 'chdsye847', 'hedle3455', 'xjhd53e', '45da', 'de37dp']\n",
    "import re\n",
    "for name in acc_names:\n",
    "    if re.search('de', name):\n",
    "        print(name)"
   ]
  },
  {
   "cell_type": "code",
   "execution_count": 38,
   "metadata": {},
   "outputs": [
    {
     "name": "stdout",
     "output_type": "stream",
     "text": [
      "hedle3455\n"
     ]
    }
   ],
   "source": [
    "acc_names = ['xkn59438', 'yhdck2', 'eihd39d9', 'chdsye847', 'hedle3455', 'xjhd53e', '45da', 'de37dp']\n",
    "import re\n",
    "for name in acc_names:\n",
    "    if re.search('d.e', name):\n",
    "        print(name)"
   ]
  },
  {
   "cell_type": "code",
   "execution_count": 39,
   "metadata": {},
   "outputs": [
    {
     "name": "stdout",
     "output_type": "stream",
     "text": [
      "eihd39d9\n",
      "chdsye847\n",
      "hedle3455\n",
      "xjhd53e\n",
      "de37dp\n"
     ]
    }
   ],
   "source": [
    "acc_names = ['xkn59438', 'yhdck2', 'eihd39d9', 'chdsye847', 'hedle3455', 'xjhd53e', '45da', 'de37dp']\n",
    "import re\n",
    "for name in acc_names:\n",
    "    if re.search('d', name) and re.search('e', name):\n",
    "        print(name)"
   ]
  },
  {
   "cell_type": "code",
   "execution_count": 40,
   "metadata": {},
   "outputs": [
    {
     "name": "stdout",
     "output_type": "stream",
     "text": [
      "xkn59438\n",
      "yhdck2\n",
      "xjhd53e\n"
     ]
    }
   ],
   "source": [
    "acc_names = ['xkn59438', 'yhdck2', 'eihd39d9', 'chdsye847', 'hedle3455', 'xjhd53e', '45da', 'de37dp']\n",
    "import re\n",
    "for name in acc_names:\n",
    "    if re.search('^x', name) or re.search('^y', name):\n",
    "        print(name)"
   ]
  },
  {
   "cell_type": "code",
   "execution_count": 42,
   "metadata": {},
   "outputs": [
    {
     "name": "stdout",
     "output_type": "stream",
     "text": [
      "xjhd53e\n"
     ]
    }
   ],
   "source": [
    "acc_names = ['xkn59438', 'yhdck2', 'eihd39d9', 'chdsye847', 'hedle3455', 'xjhd53e', '45da', 'de37dp']\n",
    "import re\n",
    "for name in acc_names:\n",
    "    if re.search('^[x|y]', name) and re.search('e$', name):\n",
    "        print(name)"
   ]
  },
  {
   "cell_type": "code",
   "execution_count": 44,
   "metadata": {},
   "outputs": [
    {
     "name": "stdout",
     "output_type": "stream",
     "text": [
      "xkn59438\n",
      "chdsye847\n",
      "hedle3455\n"
     ]
    }
   ],
   "source": [
    "acc_names = ['xkn59438', 'yhdck2', 'eihd39d9', 'chdsye847', 'hedle3455', 'xjhd53e', '45da', 'de37dp']\n",
    "import re\n",
    "for name in acc_names:\n",
    "    if re.search('[0,1,2,3,4,5,6,7,8,9]{3,10}', name):\n",
    "        print(name)"
   ]
  },
  {
   "cell_type": "code",
   "execution_count": 45,
   "metadata": {},
   "outputs": [
    {
     "name": "stdout",
     "output_type": "stream",
     "text": [
      "45da\n",
      "de37dp\n"
     ]
    }
   ],
   "source": [
    "acc_names = ['xkn59438', 'yhdck2', 'eihd39d9', 'chdsye847', 'hedle3455', 'xjhd53e', '45da', 'de37dp']\n",
    "import re\n",
    "for name in acc_names:\n",
    "    if re.search('d[arp]$', name):\n",
    "        print(name)"
   ]
  },
  {
   "cell_type": "markdown",
   "metadata": {},
   "source": [
    "#### Double Digest"
   ]
  },
  {
   "cell_type": "code",
   "execution_count": 6,
   "metadata": {},
   "outputs": [
    {
     "name": "stdout",
     "output_type": "stream",
     "text": [
      "488\n",
      "655\n",
      "485\n",
      "385\n",
      "488\n",
      "655\n",
      "434\n",
      "51\n",
      "385\n",
      "0\n"
     ]
    }
   ],
   "source": [
    "import re\n",
    "dna = open(\"dna.txt\").read().rstrip(\"/n\")\n",
    "\n",
    "#create list of cuts starting at 0\n",
    "\n",
    "cuts =[0]\n",
    "#loop to make a list of all cut sites for AbcI\n",
    "for match in re.finditer(\"A[ATGC]TAAT\", dna):\n",
    "    cuts.append(match.start() + 3)\n",
    "#loop to make a list of all cut sites for AbcII\n",
    "    #R = A or G and W = A or T\n",
    "for match in re.finditer(\"GC[AG][AT]TG\", dna):\n",
    "    cuts.append(match.start() + 4)\n",
    "#add length of seq to end of cut list \n",
    "    cuts.append(len(dna))\n",
    "#sort to get in order\n",
    "    sort = sorted(cuts)\n",
    "    #loop across range in list to count fragment size\n",
    "    for seq in range(1,len(sort)):\n",
    "        current_cut = sort[seq]\n",
    "        previous_cut = sort[seq-1]\n",
    "        fragment_size = current_cut - previous_cut\n",
    "        print(str(fragment_size))"
   ]
  }
 ],
 "metadata": {
  "kernelspec": {
   "display_name": "Python 3",
   "language": "python",
   "name": "python3"
  },
  "language_info": {
   "codemirror_mode": {
    "name": "ipython",
    "version": 3
   },
   "file_extension": ".py",
   "mimetype": "text/x-python",
   "name": "python",
   "nbconvert_exporter": "python",
   "pygments_lexer": "ipython3",
   "version": "3.6.7"
  }
 },
 "nbformat": 4,
 "nbformat_minor": 2
}
