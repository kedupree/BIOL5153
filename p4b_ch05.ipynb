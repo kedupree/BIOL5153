{
 "cells": [
  {
   "cell_type": "markdown",
   "metadata": {},
   "source": [
    "## Python for Biologists Chapter 5 Exercises"
   ]
  },
  {
   "cell_type": "markdown",
   "metadata": {},
   "source": [
    "#### In Chapter Exercises"
   ]
  },
  {
   "cell_type": "code",
   "execution_count": null,
   "metadata": {},
   "outputs": [],
   "source": [
    "#Defining a function\n",
    "    #Funcitons let us reuse code \n",
    "def get_at_content(dna):\n",
    "    length = len(dna)\n",
    "    a_count = dna.count('A')\n",
    "    t_count = dna.count('T')\n",
    "    at_content = (a_count + t_count) / length\n",
    "    return at_content\n",
    "    #any variables that we create as part of the function only exist inside the\n",
    "    #function, and cannot be accessed outside\n",
    "    \n",
    "    #When defining functions, correct for lowercase DNA\n",
    "def get_at_content(dna):\n",
    "    length = len(dna)\n",
    "    a_count = dna.upper().count('A')\n",
    "    t_count = dna.upper().count('T')\n",
    "    at_content = (a_count + t_count) / length\n",
    "    return round(at_content, 2)\n",
    "\n",
    "    #You can also add the sig fig rounding as an argument\n",
    "def get_at_content(dna, sig_figs):\n",
    "    length = len(dna)\n",
    "    a_count = dna.upper().count('A')\n",
    "    t_count = dna.upper().count('T')\n",
    "    at_content = (a_count + t_count) / length\n",
    "    return round(at_content, sig_figs)\n",
    "\n",
    "    #These functions are encapsulated, meaning we can change them without changing\n",
    "    #the data or input we are working with\n",
    "    \n",
    "    #Not all functions require an argument, but these aren't very useful\n",
    "def get_a_number():\n",
    "    return 42\n",
    "\n",
    "    #Functions don't always have a return value\n",
    "def print_at_content(dna):\n",
    "    length = len(dna)\n",
    "    a_count = dna.upper().count('A')\n",
    "    t_count = dna.upper().count('T')\n",
    "    at_content = (a_count + t_count) / length\n",
    "    print(str(round(at_content, 2)))\n",
    "    \n",
    "    #Instead of typing arguments directly, you can call argument variables,\n",
    "    #which are not required to be in the correct order\n",
    "get_at_content(dna=\"ATCGTGACTCG\", sig_figs=2)\n",
    "\n",
    "    #Function arguments can have defaults for when argument values are not specified\n",
    "def get_at_content(dna, sig_figs=2):\n",
    "    length = len(dna)\n",
    "    a_count = dna.upper().count('A')\n",
    "    t_count = dna.upper().count('T')\n",
    "    at_content = (a_count + t_count) / length\n",
    "    return round(at_content, sig_figs)\n",
    "    \n",
    "    #You can use the assert function to test your functions\n",
    "assert get_at_content(\"ATGC\") == 0.5\n",
    "assert get_at_content(\"ATGCNNNNNNNNNN\") == 0.5\n",
    "    #Assertion Error\n",
    "    \n",
    "    #This helps debug your code and modify to work on more data \n",
    "def get_at_content(dna, sig_figs=2):\n",
    "    dna = dna.replace('N', '')\n",
    "    length = len(dna)\n",
    "    a_count = dna.upper().count('A')\n",
    "    t_count = dna.upper().count('T')\n",
    "    at_content = (a_count + t_count) / length\n",
    "    return round(at_content, sig_figs)\n"
   ]
  },
  {
   "cell_type": "markdown",
   "metadata": {},
   "source": [
    "#### Percentage of Amino Acid Residues:I"
   ]
  },
  {
   "cell_type": "code",
   "execution_count": 11,
   "metadata": {},
   "outputs": [],
   "source": [
    "def protein_percent(aa_seq, protein):\n",
    "    length = len(aa_seq)\n",
    "    p_count = aa_seq.upper().count(protein.upper())\n",
    "    percent = (p_count/length)*100\n",
    "    return(percent)\n",
    "   "
   ]
  },
  {
   "cell_type": "markdown",
   "metadata": {},
   "source": [
    "#### Percentage of Amino Acid Residue:II"
   ]
  },
  {
   "cell_type": "code",
   "execution_count": 57,
   "metadata": {},
   "outputs": [],
   "source": [
    "def protein_percent(aa_seq, protein = [\"A\", \"I\",\"L\", \"M\", \"F\", \"W\", \"Y\", \"V\"]):\n",
    "    length = len(aa_seq)\n",
    "    aa_seq = aa_seq.upper()\n",
    "    total = 0\n",
    "    for aa in protein:\n",
    "        aa = aa.upper()\n",
    "        aa_count = aa_seq.count(aa)\n",
    "        total = total + aa_count\n",
    "    percent = (total*100)/length\n",
    "    return(percent)\n",
    "\n",
    "assert protein_percent(\"MSRSLLLRFLLFLLLLPPLP\", [\"M\",\"L\"]) == 55"
   ]
  }
 ],
 "metadata": {
  "kernelspec": {
   "display_name": "Python 3",
   "language": "python",
   "name": "python3"
  },
  "language_info": {
   "codemirror_mode": {
    "name": "ipython",
    "version": 3
   },
   "file_extension": ".py",
   "mimetype": "text/x-python",
   "name": "python",
   "nbconvert_exporter": "python",
   "pygments_lexer": "ipython3",
   "version": "3.6.7"
  }
 },
 "nbformat": 4,
 "nbformat_minor": 2
}
