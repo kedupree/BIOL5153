{
 "cells": [
  {
   "cell_type": "markdown",
   "metadata": {},
   "source": [
    "## Python For Biologists Chapter 2 Exercises"
   ]
  },
  {
   "cell_type": "markdown",
   "metadata": {},
   "source": [
    "#### In Chapter Exercises"
   ]
  },
  {
   "cell_type": "code",
   "execution_count": 46,
   "metadata": {},
   "outputs": [
    {
     "name": "stdout",
     "output_type": "stream",
     "text": [
      "Hello world\n",
      "Hello world\n",
      "She said, 'Helo world'\n",
      "He said, \"Hello world\"\n",
      "Hello world I am here\n",
      "Comments are useful!\n",
      "Hello\n",
      "world\n",
      "ATGCGTA\n",
      "ATGCGTA\n",
      "AATTGGCC\n",
      "AAAATGCGGG\n",
      "My dna is now AAAATGCGGG\n",
      "6\n",
      "The length of the dna seq is 8\n",
      "atgc\n",
      "before: ATGC\n",
      "after: ATGC\n",
      "3\n",
      "vlspadktnv\n",
      "ylspadktny\n",
      "ymtpadktnv\n",
      "vlspadktnv\n",
      "vlspadktnv\n",
      "pa\n",
      "vlspad\n",
      "vlspadktnv\n",
      "v\n",
      "valines: 2\n",
      "lsp: 1\n",
      "tryptophan: 0\n",
      "0\n",
      "6\n",
      "-1\n"
     ]
    }
   ],
   "source": [
    "#This is a statement\n",
    "    #Print is a function and the text inside the parentheses is an argument\n",
    "print(\"Hello world\")\n",
    "\n",
    "    #Quotes are important, but either single/double quotes are ok. BE CONSISTENT\n",
    "print('Hello world')\n",
    "print(\"She said, 'Helo world'\")\n",
    "print('He said, \"Hello world\"')\n",
    "\n",
    "    #It can take multiple arguments\n",
    "print('Hello world', 'I am here')\n",
    "\n",
    "#Comment and annotate your code\n",
    "print('Comments are useful!')\n",
    "\n",
    "#Forgetting quotes can give an error message\n",
    "    #print(hello world)\n",
    "    #print(error)\n",
    "\n",
    "#Mispelling can give you 'NameError'\n",
    "    #prin('Hello world')\n",
    "\n",
    "#Splitting a statement over many lines\n",
    "    #entering a line break will result in an error\n",
    "#print('Hello\n",
    "     #world')\n",
    "      #instead we can use a newline character '\\n'\n",
    "print('Hello\\nworld')\n",
    "\n",
    "#You can store strings in a variable\n",
    "    #store a short DNA sequence in the variable my_dna\n",
    "my_dna = 'ATGCGTA'\n",
    "\n",
    "    #now print the dna sequence\n",
    "print(my_dna)\n",
    "\n",
    "    #change the value(overwrite) of my_dna\n",
    "my_dna = 'TGGTCCA'\n",
    "\n",
    "#Varaible names are ARBITRARY\n",
    "banana = 'ATGCGTA'\n",
    "print(banana)\n",
    "\n",
    "#Make sure your variable names are useful/relevant/informative\n",
    "#Variable names are CASE SENSITIVE so be sure to use the correct one\n",
    "\n",
    "#Manipulating Strings\n",
    "    #Concatenation\n",
    "my_dna = 'AATT'+'GGCC'\n",
    "print(my_dna)\n",
    "\n",
    "    #You can also concatenate variables\n",
    "upstream = 'AAA'\n",
    "my_dna = upstream + \"ATGC\"\n",
    "\n",
    "    #You can also concatenate many strings at once\n",
    "upstream = 'AAA'\n",
    "downstream = 'GGG'\n",
    "my_dna = upstream + 'ATGC' + downstream\n",
    "print(my_dna)\n",
    "\n",
    "    #You can concatenate the results of concatenation, as it is also a string\n",
    "print(\"My dna is now \" + my_dna)\n",
    "\n",
    "#Finding the length of a string\n",
    "    #The len function has a return value, but it will not print unless we use the print function\n",
    "len('ATCGCG')\n",
    "dna = len('ATCGCG')\n",
    "print(dna)\n",
    "\n",
    "#Strings and numbers(integers) are different in PYTHON\n",
    "my_dna = 'ATGCGAGT'\n",
    "dna_length = len(my_dna)\n",
    "    #print('The length of the dna seq is' + dna_length)\n",
    "    #This gives 'TypeError: must be str, not int'\n",
    "    #use the str function to turn an integer into a string\n",
    "print('The length of the dna seq is ' + str(dna_length))\n",
    "\n",
    "#Changing case\n",
    "    #Functions have methods that are specific to them, and can be called via function.method()\n",
    "my_dna = 'ATGC'\n",
    "\n",
    "    #print in lowercase\n",
    "print(my_dna.lower())\n",
    "\n",
    "    #the method does not change the variable\n",
    "print('before: ' + my_dna)\n",
    "lowercase_dna = my_dna.lower\n",
    "print('after: ' + my_dna)\n",
    "\n",
    "    #This only works on strings, integers will give an error\n",
    "dna = 'AGCGCT'\n",
    "print(len('dna'))\n",
    "    #print(len(dna).lower)\n",
    "    #Error: 'int' object has no attribute 'lower'\n",
    "\n",
    "#Replacing in a string\n",
    "protein = 'vlspadktnv'\n",
    "print(protein)\n",
    "\n",
    "    #replace v with y\n",
    "print(protein.replace('v', 'y'))\n",
    "\n",
    "    #replace more than one character\n",
    "print(protein.replace('vls', 'ymt'))\n",
    "\n",
    "    #yet the original variable is not affected\n",
    "print(protein)\n",
    "\n",
    "#Extracting part of a string\n",
    "protein = 'vlspadktnv'\n",
    "print(protein)\n",
    "\n",
    "    #use a matrix\n",
    "print(protein[3:5])\n",
    "    #these numbers for strings start at 0 and end at the number before your 'end' in the matrix\n",
    "print(protein[0:6])\n",
    "    #stop positions beyond the end just take you to the end of the string\n",
    "print(protein[0:60])\n",
    "    #you can assign one value in a string to a variable\n",
    "first_position = protein[0]\n",
    "print(first_position)\n",
    "\n",
    "#Counting and finding substrings\n",
    "protein = 'vlspadktnv'\n",
    "\n",
    "    #count amino acid residues\n",
    "valine_count = protein.count('v')\n",
    "lsp_count = protein.count('lsp')\n",
    "trypt_count = protein.count('w')\n",
    "\n",
    "    #print counts\n",
    "print('valines: ' + str(valine_count))\n",
    "print('lsp: ' + str(lsp_count))\n",
    "print('tryptophan: ' + str(trypt_count))\n",
    "\n",
    "    #find method gives the location of found string object\n",
    "print(str(protein.find('v')))\n",
    "print(str(protein.find('kt')))\n",
    "print(str(protein.find('w')))\n",
    "    #-1 value means not found"
   ]
  },
  {
   "cell_type": "markdown",
   "metadata": {},
   "source": [
    "#### Calculating AT content"
   ]
  },
  {
   "cell_type": "code",
   "execution_count": 41,
   "metadata": {},
   "outputs": [
    {
     "name": "stdout",
     "output_type": "stream",
     "text": [
      "Sequence: ACTGATCGATTACGTATAGTATTTGCTATCATACATATATATCGATGCGTTCAT\n",
      "Count of AT: 37\n",
      "Total Sequence length: 54\n",
      "Percent AT: 68.519\n"
     ]
    }
   ],
   "source": [
    "#DNA sequence\n",
    "dna_seq = 'ACTGATCGATTACGTATAGTATTTGCTATCATACATATATATCGATGCGTTCAT'\n",
    "print('Sequence:', dna_seq)\n",
    "\n",
    "#Create AT count function\n",
    "AT_count = dna_seq.count('A') + dna_seq.count('T')\n",
    "print('Count of AT:', AT_count)\n",
    "print('Total Sequence length:', len(dna_seq))\n",
    "\n",
    "#Calculate percentage of AT\n",
    "print('Percent AT:', (round((AT_count/len(dna_seq))*100,3)))\n"
   ]
  },
  {
   "cell_type": "markdown",
   "metadata": {},
   "source": [
    "#### Complementing DNA"
   ]
  },
  {
   "cell_type": "code",
   "execution_count": 50,
   "metadata": {},
   "outputs": [
    {
     "name": "stdout",
     "output_type": "stream",
     "text": [
      "Sequence: ACTGATCGATTACGTATAGTATTTGCTATCATACATATATATCGATGCGTTCAT\n",
      "Complement:  TGACTAGCTAATGCATATCATAAACGATAGTATGTATATATAGCTACGCAAGTA\n"
     ]
    }
   ],
   "source": [
    "#DNA Sequence\n",
    "dna_seq = 'ACTGATCGATTACGTATAGTATTTGCTATCATACATATATATCGATGCGTTCAT'\n",
    "print('Sequence:', dna_seq)\n",
    "\n",
    "#Replace A with t\n",
    "rep1 = dna_seq.replace('A','t')\n",
    "\n",
    "#Replace C with g\n",
    "rep2 = rep1.replace('C','g')\n",
    "\n",
    "#Replace T with A\n",
    "rep3 = rep2.replace('T','A')\n",
    "\n",
    "#Replace G with C\n",
    "rep4 = rep3.replace('G','C')\n",
    "\n",
    "#Print complement sequence\n",
    "print('Complement: ', rep4.upper())\n",
    "\n"
   ]
  },
  {
   "cell_type": "markdown",
   "metadata": {},
   "source": [
    "#### Restriction Fragment Lengths"
   ]
  },
  {
   "cell_type": "code",
   "execution_count": 26,
   "metadata": {},
   "outputs": [
    {
     "name": "stdout",
     "output_type": "stream",
     "text": [
      "Sequence: ACTGATCGATTACGTATAGTAGAATTCTATCATACATATATATCGATGCGTTCAT\n",
      "Restriction Sites: GAATTC\n",
      "Seqence Length: 55\n",
      "First Fragment: 22\n",
      "Second Fragment: 33\n"
     ]
    }
   ],
   "source": [
    "#DNA Sequence\n",
    "dna_seq = 'ACTGATCGATTACGTATAGTAGAATTCTATCATACATATATATCGATGCGTTCAT'\n",
    "print('Sequence:', dna_seq)\n",
    "\n",
    "#Identify Restriction Sites\n",
    "sub = 'GAATTC'\n",
    "print('Restriction Sites:', sub)\n",
    "\n",
    "#Find Restriction Site locations\n",
    "dna_seq.find(sub)\n",
    "\n",
    "#Calculate fragment lengths\n",
    "print('Seqence Length:', len(dna_seq))\n",
    "print('First Fragment:', len(dna_seq[0:22]))\n",
    "print('Second Fragment:', len(dna_seq[22:55]))\n",
    "\n"
   ]
  },
  {
   "cell_type": "markdown",
   "metadata": {},
   "source": [
    "#### Splicing out Introns:I"
   ]
  },
  {
   "cell_type": "code",
   "execution_count": 42,
   "metadata": {
    "scrolled": true
   },
   "outputs": [
    {
     "name": "stdout",
     "output_type": "stream",
     "text": [
      "Sequence: ATCGATCGATCGATCGACTGACTAGTCATAGCTATGCATGTAGCTACTCGATCGATCGATCGATCGATCGATCGATCGATCGATCATGCTATCATCGATCGATATCGATGCATCGACTACTAT\n",
      "Sequence length: 123\n",
      "Coding Region: ATCGATCGATCGATCGACTGACTAGTCATAGCTATGCATGTAGCTACTCGATCGATCGATCGTCATCGATCGATATCGATGCATCGACTACTAT\n"
     ]
    }
   ],
   "source": [
    "#DNA Sequence\n",
    "dna_seq = 'ATCGATCGATCGATCGACTGACTAGTCATAGCTATGCATGTAGCTACTCGATCGATCGATCGATCGATCGATCGATCGATCGATCATGCTATCATCGATCGATATCGATGCATCGACTACTAT'\n",
    "print('Sequence:', dna_seq)\n",
    "print('Sequence length:', len(dna_seq))\n",
    "\n",
    "#Identify exon 1 and exon 2\n",
    "exon_one = dna_seq[0:62]\n",
    "exon_two = dna_seq[91:123]\n",
    "\n",
    "#Print only the exons(coding region)\n",
    "print('Coding Region:', exon_one + exon_two)"
   ]
  },
  {
   "cell_type": "markdown",
   "metadata": {},
   "source": [
    "#### Splicing out Introns:II"
   ]
  },
  {
   "cell_type": "code",
   "execution_count": 43,
   "metadata": {},
   "outputs": [
    {
     "name": "stdout",
     "output_type": "stream",
     "text": [
      "Sequence: ATCGATCGATCGATCGACTGACTAGTCATAGCTATGCATGTAGCTACTCGATCGATCGATCGATCGATCGATCGATCGATCGATCATGCTATCATCGATCGATATCGATGCATCGACTACTAT\n",
      "Sequence length: 123\n",
      "Coding Region: ATCGATCGATCGATCGACTGACTAGTCATAGCTATGCATGTAGCTACTCGATCGATCGATCGATCATCGATCGATATCGATGCATCGACTACTAT\n",
      "Percent Coding DNA: 77.236\n"
     ]
    }
   ],
   "source": [
    "#DNA Sequence\n",
    "dna_seq = 'ATCGATCGATCGATCGACTGACTAGTCATAGCTATGCATGTAGCTACTCGATCGATCGATCGATCGATCGATCGATCGATCGATCATGCTATCATCGATCGATATCGATGCATCGACTACTAT'\n",
    "print('Sequence:', dna_seq)\n",
    "print('Sequence length:', len(dna_seq))\n",
    "\n",
    "#Identify exons 1 and 2\n",
    "exon_one = dna_seq[0:63]\n",
    "exon_two = dna_seq[91:123]\n",
    "\n",
    "#Assign coding region to variable\n",
    "coding = exon_one + exon_two\n",
    "print('Coding Region:', coding)\n",
    "\n",
    "#Caluclate percentage of string that is 'coding' and round by 3 decimals\n",
    "print('Percent Coding DNA:', (round((len(coding)/len(dna_seq))*100, 3)))"
   ]
  },
  {
   "cell_type": "markdown",
   "metadata": {},
   "source": [
    "#### Splicing out Introns:III"
   ]
  },
  {
   "cell_type": "code",
   "execution_count": 44,
   "metadata": {},
   "outputs": [
    {
     "name": "stdout",
     "output_type": "stream",
     "text": [
      "Sequence: ATCGATCGATCGATCGACTGACTAGTCATAGCTATGCATGTAGCTACTCGATCGATCGATCGATCGATCGATCGATCGATCGATCATGCTATCATCGATCGATATCGATGCATCGACTACTAT\n",
      "Sequence length: 123\n",
      "ATCGATCGATCGATCGACTGACTAGTCATAGCTATGCATGTAGCTACTCGATCGATCGATCGAcgatcgatcgatcgatcgatcatgctTCATCGATCGATATCGATGCATCGACTACTAT\n"
     ]
    }
   ],
   "source": [
    "#DNA Sequence\n",
    "dna_seq = 'ATCGATCGATCGATCGACTGACTAGTCATAGCTATGCATGTAGCTACTCGATCGATCGATCGATCGATCGATCGATCGATCGATCATGCTATCATCGATCGATATCGATGCATCGACTACTAT'\n",
    "print('Sequence:', dna_seq)\n",
    "print('Sequence length:', len(dna_seq))\n",
    "\n",
    "#Identify exons 1 and 2, and the intron\n",
    "exon_one = dna_seq[0:63]\n",
    "exon_two = dna_seq[91:123]\n",
    "intron = dna_seq[64:90]\n",
    "\n",
    "#Change letter cases for the intron to become lowercase\n",
    "print(exon_one.upper()+intron.lower()+exon_two.upper())\n"
   ]
  }
 ],
 "metadata": {
  "kernelspec": {
   "display_name": "Python 3",
   "language": "python",
   "name": "python3"
  },
  "language_info": {
   "codemirror_mode": {
    "name": "ipython",
    "version": 3
   },
   "file_extension": ".py",
   "mimetype": "text/x-python",
   "name": "python",
   "nbconvert_exporter": "python",
   "pygments_lexer": "ipython3",
   "version": "3.6.7"
  }
 },
 "nbformat": 4,
 "nbformat_minor": 2
}
