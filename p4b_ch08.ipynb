{
 "cells": [
  {
   "cell_type": "markdown",
   "metadata": {},
   "source": [
    "## Python for Biologists Chapter 8 Exercises"
   ]
  },
  {
   "cell_type": "markdown",
   "metadata": {},
   "source": [
    "#### In Chapter Exercises"
   ]
  },
  {
   "cell_type": "code",
   "execution_count": 15,
   "metadata": {},
   "outputs": [
    {
     "name": "stdout",
     "output_type": "stream",
     "text": [
      "GC[ATGC]GC\n",
      "{'AAT': 1, 'ATG': 1, 'ATC': 2, 'ACG': 1, 'TAC': 1, 'TGA': 2, 'TCG': 2, 'GAT': 2, 'GTA': 1, 'GCT': 1, 'CTG': 1, 'CGA': 1, 'CGT': 1, 'CGC': 1}\n",
      "dict_keys(['AAT', 'ATG', 'ATC', 'ACG', 'TAC', 'TGA', 'TCG', 'GAT', 'GTA', 'GCT', 'CTG', 'CGA', 'CGT', 'CGC'])\n",
      "ATC\n",
      "TGA\n",
      "TCG\n",
      "GAT\n"
     ]
    }
   ],
   "source": [
    "#Dictionaries allow us to store value pairs\n",
    "    #the syntax for creating a dictionary is similar to a list, but we use \n",
    "    #curly brackets rather than square ones\n",
    "enzymes = { 'EcoRI':r'GAATTC', 'AvaII':r'GG(A|T)CC', 'BisI':'GC[ATGC]GC' }\n",
    "    \n",
    "    #Splitting across lines makes dictionaries more readable\n",
    "enzymes = {\n",
    "'EcoRI' : r'GAATTC',\n",
    "'AvaII' : r'GG(A|T)CC',\n",
    "'BisI' : r'GC[ATGC]GC'\n",
    "}\n",
    "    #You can then look up a value in the dictionary\n",
    "print(enzymes['BisI'])\n",
    "\n",
    "    #The pop method. pop returns the value and deletes the key at the same time\n",
    "enzymes = {\n",
    "'EcoRI' : r'GAATTC',\n",
    "'AvaII' : r'GG(A|T)CC',\n",
    "'BisI' : r'GC[ATGC]GC'\n",
    "}\n",
    "# remove the EcoRI enzyme from the dict\n",
    "enzymes.pop('EcoRI')\n",
    "\n",
    "    #Trinucleotide example\n",
    "dna = \"AATGATCGATCGTACGCTGA\"\n",
    "counts = {}\n",
    "for base1 in ['A', 'T', 'G', 'C']:\n",
    "    for base2 in ['A', 'T', 'G', 'C']:\n",
    "        for base3 in ['A', 'T', 'G', 'C']:\n",
    "            trinucleotide = base1 + base2 + base3\n",
    "            count = dna.count(trinucleotide)\n",
    "            counts[trinucleotide] = count\n",
    "\n",
    "    #now write a code that does not store the zeros\n",
    "dna = \"AATGATCGATCGTACGCTGA\"\n",
    "counts = {}\n",
    "for base1 in ['A', 'T', 'G', 'C']:\n",
    "    for base2 in ['A', 'T', 'G', 'C']:\n",
    "        for base3 in ['A', 'T', 'G', 'C']:\n",
    "            trinucleotide = base1 + base2 + base3\n",
    "            count = dna.count(trinucleotide)\n",
    "            if count > 0:\n",
    "                counts[trinucleotide] = count\n",
    "print(counts)\n",
    "    \n",
    "    #You can look up whether a key exists in a dictionary using get, with a 'false' return\n",
    "    #value of 0\n",
    "#print(counts.get('TGA',0)\n",
    "      \n",
    "    #The keys method returns a list of all the keys in the dictionary\n",
    "print(counts.keys())\n",
    "\n",
    "    #You can then iterate over these keys\n",
    "for trinucleotide in counts.keys():\n",
    "    if counts.get(trinucleotide) == 2:\n",
    "        print(trinucleotide)\n",
    "    \n",
    "    #Keys/Dictionaries are inherently undordered, so to control we use sorted\n",
    "for trinucleotide in sorted(counts.keys()):\n",
    "    if counts.get(trinucleotide) == 2:\n",
    "        print(trinucleotide)    \n",
    "       \n",
    "    #You can iterate over items in a dictionary\n",
    "for trinucleotide, count in counts.items():\n",
    "    if count == 2:\n",
    "        print(trinucleotide)\n",
    "\n",
    "    "
   ]
  },
  {
   "cell_type": "markdown",
   "metadata": {},
   "source": [
    "#### DNA Translation"
   ]
  },
  {
   "cell_type": "code",
   "execution_count": 31,
   "metadata": {},
   "outputs": [
    {
     "name": "stdout",
     "output_type": "stream",
     "text": [
      "His\n"
     ]
    },
    {
     "data": {
      "text/plain": [
       "' unk Arg Ile Ala Tyr Leu Ala Thr Ile Asp'"
      ]
     },
     "execution_count": 31,
     "metadata": {},
     "output_type": "execute_result"
    }
   ],
   "source": [
    "#Create dictionary of proteins\n",
    "proteins = {\n",
    "    'TTT':'Phe', 'TTC':'Phe', 'TTA':'Leu', 'TTG':'Leu', 'CTA':'Leu', 'CTG':'Leu', 'CTT':'Leu', 'CTC':'Leu',\n",
    "    'ATT':'Ile','ATC':'Ile', 'ATA':'Ile', 'ATG':'Met', 'GTA':'Val', 'GTT':'Val', 'GTC':'Val','GTG':'Val', 'TCA':'Ser', 'Ser' : 'TCG', 'Ser' : 'TCT', 'Ser' : 'TCC', 'Ser' : 'AGT',\n",
    "    'AGC':'Ser', 'CCA':'Pro', 'CCG':'Pro', 'CCT':'Pro', 'CCC':'Pro', 'ACA':'Thr', 'ACG':'Thr', 'ACT':'Thr',\n",
    "    'ACC':'Thr', 'GCA':'Ala', 'GCG':'Ala', 'GCT':'Ala', 'GCC':'Ala', 'TAA':'Tyr', 'TAG':'Tyr', 'TAT':'Tyr', \n",
    "    'TAC':'Tyr', 'CAT':'His', 'CAC':'His', 'CAA':'Gln', 'CAG':'Gln', 'AAT':'Asn', 'AAC':'Asn', 'AAA':'Lys', 'AAG':'Lys',\n",
    "    'GAT':'Asp', 'GAC':'Asp', 'GAA':'Glu', 'GAG':'Glu', 'TGT':'Cys', 'TGC':'Cys', 'TGA':'Ter', 'TGG':'Trp', 'CGA':'Arg',\n",
    "    'CGG':'Arg', 'CGT':'Arg', 'CGC':'Arg', 'AGA':'Arg', 'AGG':'Arg', 'GGA':'Gly', 'GGG':'Gly', 'GGT':'Gly','GGC':'Gly'}\n",
    "\n",
    "print(proteins['CAT'])\n",
    "#Turn into a function!\n",
    "\n",
    "def translate(dna):\n",
    "#Create a code to split DNA into pieces of 3\n",
    "#Set up a string for your list of proteins\n",
    "    protein = ''\n",
    "#Calculate start position of ending codon\n",
    "    end = len(dna)-2\n",
    "#Cut dna into fragments at each reading frame\n",
    "    for start in range(0, end, 3):\n",
    "        codon = dna[start:start+3]\n",
    "        aa = proteins.get(codon.upper(), 'unk')\n",
    "        protein = protein + ' ' + aa\n",
    "    return protein\n",
    "\n"
   ]
  }
 ],
 "metadata": {
  "kernelspec": {
   "display_name": "Python 3",
   "language": "python",
   "name": "python3"
  },
  "language_info": {
   "codemirror_mode": {
    "name": "ipython",
    "version": 3
   },
   "file_extension": ".py",
   "mimetype": "text/x-python",
   "name": "python",
   "nbconvert_exporter": "python",
   "pygments_lexer": "ipython3",
   "version": "3.6.7"
  }
 },
 "nbformat": 4,
 "nbformat_minor": 2
}
