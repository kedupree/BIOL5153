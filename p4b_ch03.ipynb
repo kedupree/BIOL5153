{
 "cells": [
  {
   "cell_type": "markdown",
   "metadata": {},
   "source": [
    "## Python for Biologists Chapter 3 Exercises"
   ]
  },
  {
   "cell_type": "markdown",
   "metadata": {},
   "source": [
    "#### In Chapter Exercises"
   ]
  },
  {
   "cell_type": "code",
   "execution_count": 7,
   "metadata": {},
   "outputs": [
    {
     "name": "stdout",
     "output_type": "stream",
     "text": [
      "\n",
      "sequence is and sequence length is 0\n",
      "sequence is and sequence length is 0\n"
     ]
    }
   ],
   "source": [
    "#Reading and Writing Files\n",
    "\n",
    "#Reading text from a file\n",
    "    #In this function, the argument is a file object, which is different than a string or integer because\n",
    "    #instead of calling the value/variable, we will use methods instead\n",
    "my_file = open('dna.txt')\n",
    "    \n",
    "    #the read method turns the file into a string\n",
    "file_contents = my_file.read()\n",
    "print(file_contents)\n",
    "\n",
    "    #All three variables are storing differnt things: the file name, the file, and the file contents\n",
    "    #Remember variable names are arbitrary\n",
    "\n",
    "    #Read method only works on file objects, not file names\n",
    "#my_file_name = 'dna.txt'\n",
    "#my_contents = my_file_name.read()\n",
    "    #Error: 'str' object has no attribute 'read'\n",
    "\n",
    "    #Also, you cannot print the file object, only the file contents\n",
    "#my_file_name = 'dna.txt'\n",
    "#my_file = open('dna.txt')\n",
    "#print(my_file)\n",
    "    #No error, but odd unreadable output\n",
    "\n",
    "#Dealing with newline characters\n",
    "my_file = open('dna.txt')\n",
    "my_dna = my_file.read()\n",
    "dna_length = len(my_dna)\n",
    "print('sequence is ' + my_dna + 'and sequence length is ' + str(dna_length))\n",
    "    \n",
    "    #output is over two lines, so we need to remove the newline character (\\n)\n",
    "my_file = open('dna.txt')\n",
    "my_file_contents = my_file.read()\n",
    "my_dna = my_file_contents.rstrip('\\n')\n",
    "dna_length = len(my_dna)\n",
    "    \n",
    "    #or do it on the fly\n",
    "my_dna = my_file.read().rstrip('\\n')\n",
    "print('sequence is ' + my_dna + 'and sequence length is ' + str(dna_length))\n",
    "    \n",
    "    #to remove all breaks/whitespace, just use .rstrip()\n",
    "    #You will get an error if a file is missing or you have a misspelling\n",
    "\n",
    "#Writing text to files\n",
    "#Writing lets you write output to files instead of printing to a screen\n",
    "my_file = open('out.txt', 'w')\n",
    "my_file.write('Hello world')\n",
    "\n",
    "    #You can use any string in the write function including:\n",
    "my_file.write('abc'+ 'def')\n",
    "my_file.write(str(len('AGTGTCAG')))\n",
    "my_file.write('ATCGC'.replace('A','T'))\n",
    "my_file.write('ATGC'.lower())\n",
    "my_file.write(my_variable)\n",
    "\n",
    "#Closing files\n",
    "    #FOR EVERY OPEN, HAVE A CLOSE -Andy Alverson\n",
    "    #close is a method, not a function, and saves what has been written to your open file and has empty parentheses\n",
    "my_file.close()\n"
   ]
  },
  {
   "cell_type": "markdown",
   "metadata": {},
   "source": [
    "#### Splitting Genomic DNA"
   ]
  },
  {
   "cell_type": "code",
   "execution_count": 10,
   "metadata": {
    "scrolled": true
   },
   "outputs": [
    {
     "data": {
      "text/plain": [
       "26"
      ]
     },
     "execution_count": 10,
     "metadata": {},
     "output_type": "execute_result"
    }
   ],
   "source": [
    "#DA Sequence\n",
    "dna_seq = 'ATCGATCGATCGATCGACTGACTAGTCATAGCTATGCATGTAGCTACTCGATCGATCGATCGATCGATCGATCGATCGATCGATCATGCTATCATCGATCGATATCGATGCATCGACTACTAT'\n",
    "\n",
    "#Identify exons and intron\n",
    "exon_one = dna_seq[0:63]\n",
    "exon_two = dna_seq[91:123]\n",
    "intron = dna_seq[64:90]\n",
    "\n",
    "#Create a writable file\n",
    "coding_region = open('coding_region.txt', 'w')\n",
    "\n",
    "#Write coding region to file\n",
    "coding_region.write(exon_one + exon_two)\n",
    "\n",
    "#Create a writable file\n",
    "noncoding = open('noncoding.txt', 'w')\n",
    "\n",
    "#Write non coding region to file\n",
    "noncoding.write((intron))\n"
   ]
  },
  {
   "cell_type": "markdown",
   "metadata": {},
   "source": [
    "#### Writing a FASTA file"
   ]
  },
  {
   "cell_type": "code",
   "execution_count": 16,
   "metadata": {},
   "outputs": [],
   "source": [
    "#DNA Sequences\n",
    "seq1 = 'ATCGTACGATCGATCGATCGCTAGACGTATCG'\n",
    "seq2 = 'actgatcgacgatcgatcgatcacgact'\n",
    "seq3 = 'ACTGAC-ACTGT--ACTGTA----CATGTG'\n",
    "\n",
    "#Open writable file \n",
    "ch3_2 = open('ch3_2.fasta', 'w')\n",
    "\n",
    "#Write seq 1 to file and close\n",
    "ch3_2.write('>ABC123/n' + seq1)\n",
    "ch3_2.close()\n",
    "\n",
    "#Open writable file to append\n",
    "ch3_2 = open('ch3_2.fasta', 'a')\n",
    "\n",
    "#Write seq 2 to file\n",
    "ch3_2.write('>DEF456/n'+ seq2.upper())\n",
    "\n",
    "#Write seq 3 to file, remove dashes, and close\n",
    "ch3_2.write('>HIJ789/n' + seq3.replace(\"-\",\"\"))\n",
    "ch3_2.close()"
   ]
  },
  {
   "cell_type": "markdown",
   "metadata": {},
   "source": [
    "#### Writing Multiple FASTA files"
   ]
  },
  {
   "cell_type": "code",
   "execution_count": null,
   "metadata": {},
   "outputs": [],
   "source": [
    "#DNA Sequences\n",
    "seq1 = 'ATCGTACGATCGATCGATCGCTAGACGTATCG'\n",
    "seq2 = 'actgatcgacgatcgatcgatcacgact'\n",
    "seq3 = 'ACTGAC-ACTGT--ACTGTA----CATGTG'\n",
    "\n",
    "#Open writable file, write seq 1, and close\n",
    "ABC123 = open('ABC123.fasta', 'w')\n",
    "ABC123.write('>ABC123/n' + seq1)\n",
    "ABC123.close()\n",
    "\n",
    "\n",
    "#Open writable file, write seq 2 as all uppercase, and close\n",
    "DEF456 = open('DEF456.fasta', 'w')\n",
    "DEF456.write('>DEF456/n'+ seq2.upper())\n",
    "\n",
    "\n",
    "#Open writable file, write seq 3 without dashes, and close\n",
    "HIJ789 = open('HIJ.fasta', 'w')\n",
    "HIJ789.write('>HIJ789/n' + seq3.replace(\"-\",\"\"))\n",
    "HIJ789.close()"
   ]
  }
 ],
 "metadata": {
  "kernelspec": {
   "display_name": "Python 3",
   "language": "python",
   "name": "python3"
  },
  "language_info": {
   "codemirror_mode": {
    "name": "ipython",
    "version": 3
   },
   "file_extension": ".py",
   "mimetype": "text/x-python",
   "name": "python",
   "nbconvert_exporter": "python",
   "pygments_lexer": "ipython3",
   "version": "3.6.7"
  }
 },
 "nbformat": 4,
 "nbformat_minor": 2
}
